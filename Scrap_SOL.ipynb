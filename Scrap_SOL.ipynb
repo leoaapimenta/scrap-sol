{
  "nbformat": 4,
  "nbformat_minor": 0,
  "metadata": {
    "colab": {
      "provenance": [],
      "include_colab_link": true
    },
    "kernelspec": {
      "name": "python3",
      "display_name": "Python 3"
    },
    "language_info": {
      "name": "python"
    }
  },
  "cells": [
    {
      "cell_type": "markdown",
      "metadata": {
        "id": "view-in-github",
        "colab_type": "text"
      },
      "source": [
        "<a href=\"https://colab.research.google.com/github/leoaapimenta/scrap-sol/blob/main/Scrap_SOL.ipynb\" target=\"_parent\"><img src=\"https://colab.research.google.com/assets/colab-badge.svg\" alt=\"Open In Colab\"/></a>"
      ]
    },
    {
      "cell_type": "code",
      "source": [
        "!pip install beautifulsoup4"
      ],
      "metadata": {
        "id": "gn65EKU56zEU"
      },
      "execution_count": null,
      "outputs": []
    },
    {
      "cell_type": "code",
      "execution_count": 2,
      "metadata": {
        "id": "i8J_MYsv6FwL"
      },
      "outputs": [],
      "source": [
        "import requests\n",
        "from bs4 import BeautifulSoup\n",
        "\n",
        "class Artigos:\n",
        "  obras = []\n",
        "\n",
        "  def __page2data(self, url):\n",
        "    page = requests.get(url)\n",
        "    soup = BeautifulSoup(page.text, 'html.parser')\n",
        "\n",
        "    resultado_da_busca = soup.find(id = 'records')\n",
        "    lista_de_titulos = resultado_da_busca.find_all(class_ = 'title')\n",
        "    lista_de_urls = resultado_da_busca.find_all('a')\n",
        "    lista_de_autores = resultado_da_busca.find_all(class_ = 'author')\n",
        "    lista_de_locais = resultado_da_busca.find_all(class_ = 'archive_serie')\n",
        "    lista_de_datas = resultado_da_busca.find_all(class_ = 'list_record_date')\n",
        "\n",
        "    titulos = []\n",
        "    for titulo in lista_de_titulos:\n",
        "        titulos.append(titulo.contents[0])\n",
        "        #print(titulo.contents[0], \"\\n\")\n",
        "\n",
        "    urls = []\n",
        "    for url in lista_de_urls:\n",
        "        urls.append(url.get('href'))\n",
        "        #print(url.get('href'))\n",
        "\n",
        "    autores = []\n",
        "    for autor in lista_de_autores:\n",
        "        autores.append(autor.contents[0])\n",
        "        #print(autor.contents[0])\n",
        "\n",
        "    locais = []\n",
        "    for local in lista_de_locais:\n",
        "        locais.append(local.contents[0])\n",
        "        #print(local.contents[0])\n",
        "\n",
        "    datas = []\n",
        "    for data in lista_de_datas:\n",
        "        datas.append(data.contents[0].strip())\n",
        "        #print(data.contents[0].strip())\n",
        "\n",
        "    aux = []\n",
        "    for i in range(len(titulos)):\n",
        "        aux.append(titulos[i])\n",
        "        aux.append(urls[i])\n",
        "        aux.append(autores[i])\n",
        "        aux.append(locais[i])\n",
        "        aux.append(datas[i])\n",
        "        self.obras.append(aux.copy())\n",
        "        aux.clear()\n",
        "  \n",
        "  def __percorrePaginas(self, urls):\n",
        "    for url in urls:\n",
        "      self.__page2data(url)\n",
        "\n",
        "  def __init__(self, urls):\n",
        "    self.__percorrePaginas(urls)\n",
        "\n",
        "  def __str__(self):\n",
        "    return str(self.obras)\n",
        "\n",
        "  def getTotalArtigos(self):\n",
        "    return len(self.obras)\n",
        "\n",
        "  def getArtigos(self):\n",
        "      return self.obras.copy()"
      ]
    },
    {
      "cell_type": "code",
      "source": [
        "#####################################################################################################\n",
        "#Código de teste para armazenar os arquivos em uma variável de instância da classe Artigos\n",
        "n = 7 # total de páginas\n",
        "urls = []\n",
        "for k in range(1, n+1):\n",
        "  url = \"https://sol.sbc.org.br/busca/index.php/integrada/results?query=ensino%20computa%C3%A7%C3%A3o%20educa%C3%A7%C3%A3o%20b%C3%A1sica&archiveIds%5B%5D=1&archiveIds%5B%5D=2&isAdvanced=1&field-10%5B%5D=por&field-10%5B%5D=eng&searchPage=\"+str(k)+\"#records\"\n",
        "  urls.append(url)\n",
        "artigos = Artigos(urls)\n",
        "print(\"Total de Artigos encontrados:\", artigos.getTotalArtigos())\n",
        "#print(artigos)\n",
        "#####################################################################################################"
      ],
      "metadata": {
        "id": "3OD-tRSzBaqY"
      },
      "execution_count": null,
      "outputs": []
    },
    {
      "cell_type": "code",
      "source": [
        "import csv\n",
        "lista_de_Artigos = artigos.getArtigos()\n",
        "f = open('./artigos.csv', 'w')\n",
        "writer = csv.writer(f)\n",
        "\n",
        "for artigo in lista_de_Artigos:\n",
        "    writer.writerow(artigo)\n",
        "\n",
        "f.close()"
      ],
      "metadata": {
        "id": "Wl60IK73Uuiw"
      },
      "execution_count": 4,
      "outputs": []
    },
    {
      "cell_type": "code",
      "source": [
        "print(artigos)"
      ],
      "metadata": {
        "id": "nij4CeBoFvE3"
      },
      "execution_count": null,
      "outputs": []
    }
  ]
}